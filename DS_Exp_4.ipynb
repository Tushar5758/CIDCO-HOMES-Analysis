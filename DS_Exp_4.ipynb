{
  "nbformat": 4,
  "nbformat_minor": 0,
  "metadata": {
    "colab": {
      "provenance": [],
      "gpuType": "T4"
    },
    "kernelspec": {
      "name": "python3",
      "display_name": "Python 3"
    },
    "language_info": {
      "name": "python"
    },
    "accelerator": "GPU"
  },
  "cells": [
    {
      "cell_type": "code",
      "execution_count": null,
      "metadata": {
        "id": "UZpIKl9DOu6K"
      },
      "outputs": [],
      "source": [
        "import pandas as pd"
      ]
    },
    {
      "cell_type": "code",
      "source": [
        "df = pd.read_csv('/content/CIDCO FINAL DATASET.csv')"
      ],
      "metadata": {
        "id": "Z16VzyUqRanL"
      },
      "execution_count": null,
      "outputs": []
    },
    {
      "cell_type": "code",
      "source": [
        "df.head()"
      ],
      "metadata": {
        "colab": {
          "base_uri": "https://localhost:8080/",
          "height": 429
        },
        "id": "Fctz8lJERxMa",
        "outputId": "261657dd-faa4-44df-e7b2-762f37e9039a"
      },
      "execution_count": null,
      "outputs": [
        {
          "output_type": "execute_result",
          "data": {
            "text/plain": [
              "  application_ID         applicant_name                   category  \\\n",
              "0  '240100828416  Sheetal Shamrao Patil                    General   \n",
              "1  '240100139779   Smital Shubham Otari      ST (SCHEDULED TRIBES)   \n",
              "2  '240100855566      Amol Nana Barkade      ST (SCHEDULED TRIBES)   \n",
              "3  '240100960014  Saurabh Devidas Palve                    General   \n",
              "4  '240100640019   Amit Laxman Dhaigude  RM (RELIGIOUS MINORITIES)   \n",
              "\n",
              "                        Location   RERA_Number  \\\n",
              "0  Kharghar (E) Taloja Sector 37  P52000028240   \n",
              "1        Panvel (W) Bus Terminus  P52000028389   \n",
              "2               Kharghar Station  P52000033542   \n",
              "3                    Bamandongri  P52000028209   \n",
              "4     Kharkopar Plot 3 Sector 16  P52000028420   \n",
              "\n",
              "            Nearest_Railway_Station  Distance_from_Railway_Station_km   Type  \\\n",
              "0  Taloje Panchnand Railway Station                               3.0    Ews   \n",
              "1            Panvel Railway Station                               1.0    Lig   \n",
              "2          Kharghar Railway Station                               0.5  Lig A   \n",
              "3       Bamandongri Railway Station                               0.5    Ews   \n",
              "4         Kharkopar Railway Station                               2.0    Lig   \n",
              "\n",
              "   Carpet_Area_sqft  No_of_Towers  ...  distance_category price_per_sqft  \\\n",
              "0               322            43  ...           moderate    9906.832298   \n",
              "1               322            11  ...               near   13012.422360   \n",
              "2               398             4  ...               near    8592.964824   \n",
              "3               322             3  ...               near   11987.577640   \n",
              "4               322            19  ...               near   12515.527950   \n",
              "\n",
              "  price_efficiency  has_rera location_popularity  location_type  \\\n",
              "0       affordable         1                  64       standard   \n",
              "1        expensive         1                  64       standard   \n",
              "2       affordable         1                 180        popular   \n",
              "3       affordable         1                  62       standard   \n",
              "4       affordable         1                  59       standard   \n",
              "\n",
              "                     Nearest_Hospital Hospital_Distance  \\\n",
              "0  Sri Sathya Sai Sanjeevani Hospital           0.57 km   \n",
              "1            LifeLine Hospital Panvel            1.5 km   \n",
              "2               MGM Hospital Kharghar            1.0 km   \n",
              "3  Matoshree Multispeciality Hospital            2.0 km   \n",
              "4                  Indravati Hospital            2.3 km   \n",
              "\n",
              "                Nearest_School School_Distance  \n",
              "0  Arqam English School (CBSE)         0.77 km  \n",
              "1     St. Joseph’s High School          1.2 km  \n",
              "2    Ryan International School          0.9 km  \n",
              "3        Radcliffe School Ulwe          1.8 km  \n",
              "4             Radcliffe School          1.5 km  \n",
              "\n",
              "[5 rows x 22 columns]"
            ],
            "text/html": [
              "\n",
              "  <div id=\"df-8af1ca1a-8fb1-470d-83e6-90f2710a33a3\" class=\"colab-df-container\">\n",
              "    <div>\n",
              "<style scoped>\n",
              "    .dataframe tbody tr th:only-of-type {\n",
              "        vertical-align: middle;\n",
              "    }\n",
              "\n",
              "    .dataframe tbody tr th {\n",
              "        vertical-align: top;\n",
              "    }\n",
              "\n",
              "    .dataframe thead th {\n",
              "        text-align: right;\n",
              "    }\n",
              "</style>\n",
              "<table border=\"1\" class=\"dataframe\">\n",
              "  <thead>\n",
              "    <tr style=\"text-align: right;\">\n",
              "      <th></th>\n",
              "      <th>application_ID</th>\n",
              "      <th>applicant_name</th>\n",
              "      <th>category</th>\n",
              "      <th>Location</th>\n",
              "      <th>RERA_Number</th>\n",
              "      <th>Nearest_Railway_Station</th>\n",
              "      <th>Distance_from_Railway_Station_km</th>\n",
              "      <th>Type</th>\n",
              "      <th>Carpet_Area_sqft</th>\n",
              "      <th>No_of_Towers</th>\n",
              "      <th>...</th>\n",
              "      <th>distance_category</th>\n",
              "      <th>price_per_sqft</th>\n",
              "      <th>price_efficiency</th>\n",
              "      <th>has_rera</th>\n",
              "      <th>location_popularity</th>\n",
              "      <th>location_type</th>\n",
              "      <th>Nearest_Hospital</th>\n",
              "      <th>Hospital_Distance</th>\n",
              "      <th>Nearest_School</th>\n",
              "      <th>School_Distance</th>\n",
              "    </tr>\n",
              "  </thead>\n",
              "  <tbody>\n",
              "    <tr>\n",
              "      <th>0</th>\n",
              "      <td>'240100828416</td>\n",
              "      <td>Sheetal Shamrao Patil</td>\n",
              "      <td>General</td>\n",
              "      <td>Kharghar (E) Taloja Sector 37</td>\n",
              "      <td>P52000028240</td>\n",
              "      <td>Taloje Panchnand Railway Station</td>\n",
              "      <td>3.0</td>\n",
              "      <td>Ews</td>\n",
              "      <td>322</td>\n",
              "      <td>43</td>\n",
              "      <td>...</td>\n",
              "      <td>moderate</td>\n",
              "      <td>9906.832298</td>\n",
              "      <td>affordable</td>\n",
              "      <td>1</td>\n",
              "      <td>64</td>\n",
              "      <td>standard</td>\n",
              "      <td>Sri Sathya Sai Sanjeevani Hospital</td>\n",
              "      <td>0.57 km</td>\n",
              "      <td>Arqam English School (CBSE)</td>\n",
              "      <td>0.77 km</td>\n",
              "    </tr>\n",
              "    <tr>\n",
              "      <th>1</th>\n",
              "      <td>'240100139779</td>\n",
              "      <td>Smital Shubham Otari</td>\n",
              "      <td>ST (SCHEDULED TRIBES)</td>\n",
              "      <td>Panvel (W) Bus Terminus</td>\n",
              "      <td>P52000028389</td>\n",
              "      <td>Panvel Railway Station</td>\n",
              "      <td>1.0</td>\n",
              "      <td>Lig</td>\n",
              "      <td>322</td>\n",
              "      <td>11</td>\n",
              "      <td>...</td>\n",
              "      <td>near</td>\n",
              "      <td>13012.422360</td>\n",
              "      <td>expensive</td>\n",
              "      <td>1</td>\n",
              "      <td>64</td>\n",
              "      <td>standard</td>\n",
              "      <td>LifeLine Hospital Panvel</td>\n",
              "      <td>1.5 km</td>\n",
              "      <td>St. Joseph’s High School</td>\n",
              "      <td>1.2 km</td>\n",
              "    </tr>\n",
              "    <tr>\n",
              "      <th>2</th>\n",
              "      <td>'240100855566</td>\n",
              "      <td>Amol Nana Barkade</td>\n",
              "      <td>ST (SCHEDULED TRIBES)</td>\n",
              "      <td>Kharghar Station</td>\n",
              "      <td>P52000033542</td>\n",
              "      <td>Kharghar Railway Station</td>\n",
              "      <td>0.5</td>\n",
              "      <td>Lig A</td>\n",
              "      <td>398</td>\n",
              "      <td>4</td>\n",
              "      <td>...</td>\n",
              "      <td>near</td>\n",
              "      <td>8592.964824</td>\n",
              "      <td>affordable</td>\n",
              "      <td>1</td>\n",
              "      <td>180</td>\n",
              "      <td>popular</td>\n",
              "      <td>MGM Hospital Kharghar</td>\n",
              "      <td>1.0 km</td>\n",
              "      <td>Ryan International School</td>\n",
              "      <td>0.9 km</td>\n",
              "    </tr>\n",
              "    <tr>\n",
              "      <th>3</th>\n",
              "      <td>'240100960014</td>\n",
              "      <td>Saurabh Devidas Palve</td>\n",
              "      <td>General</td>\n",
              "      <td>Bamandongri</td>\n",
              "      <td>P52000028209</td>\n",
              "      <td>Bamandongri Railway Station</td>\n",
              "      <td>0.5</td>\n",
              "      <td>Ews</td>\n",
              "      <td>322</td>\n",
              "      <td>3</td>\n",
              "      <td>...</td>\n",
              "      <td>near</td>\n",
              "      <td>11987.577640</td>\n",
              "      <td>affordable</td>\n",
              "      <td>1</td>\n",
              "      <td>62</td>\n",
              "      <td>standard</td>\n",
              "      <td>Matoshree Multispeciality Hospital</td>\n",
              "      <td>2.0 km</td>\n",
              "      <td>Radcliffe School Ulwe</td>\n",
              "      <td>1.8 km</td>\n",
              "    </tr>\n",
              "    <tr>\n",
              "      <th>4</th>\n",
              "      <td>'240100640019</td>\n",
              "      <td>Amit Laxman Dhaigude</td>\n",
              "      <td>RM (RELIGIOUS MINORITIES)</td>\n",
              "      <td>Kharkopar Plot 3 Sector 16</td>\n",
              "      <td>P52000028420</td>\n",
              "      <td>Kharkopar Railway Station</td>\n",
              "      <td>2.0</td>\n",
              "      <td>Lig</td>\n",
              "      <td>322</td>\n",
              "      <td>19</td>\n",
              "      <td>...</td>\n",
              "      <td>near</td>\n",
              "      <td>12515.527950</td>\n",
              "      <td>affordable</td>\n",
              "      <td>1</td>\n",
              "      <td>59</td>\n",
              "      <td>standard</td>\n",
              "      <td>Indravati Hospital</td>\n",
              "      <td>2.3 km</td>\n",
              "      <td>Radcliffe School</td>\n",
              "      <td>1.5 km</td>\n",
              "    </tr>\n",
              "  </tbody>\n",
              "</table>\n",
              "<p>5 rows × 22 columns</p>\n",
              "</div>\n",
              "    <div class=\"colab-df-buttons\">\n",
              "\n",
              "  <div class=\"colab-df-container\">\n",
              "    <button class=\"colab-df-convert\" onclick=\"convertToInteractive('df-8af1ca1a-8fb1-470d-83e6-90f2710a33a3')\"\n",
              "            title=\"Convert this dataframe to an interactive table.\"\n",
              "            style=\"display:none;\">\n",
              "\n",
              "  <svg xmlns=\"http://www.w3.org/2000/svg\" height=\"24px\" viewBox=\"0 -960 960 960\">\n",
              "    <path d=\"M120-120v-720h720v720H120Zm60-500h600v-160H180v160Zm220 220h160v-160H400v160Zm0 220h160v-160H400v160ZM180-400h160v-160H180v160Zm440 0h160v-160H620v160ZM180-180h160v-160H180v160Zm440 0h160v-160H620v160Z\"/>\n",
              "  </svg>\n",
              "    </button>\n",
              "\n",
              "  <style>\n",
              "    .colab-df-container {\n",
              "      display:flex;\n",
              "      gap: 12px;\n",
              "    }\n",
              "\n",
              "    .colab-df-convert {\n",
              "      background-color: #E8F0FE;\n",
              "      border: none;\n",
              "      border-radius: 50%;\n",
              "      cursor: pointer;\n",
              "      display: none;\n",
              "      fill: #1967D2;\n",
              "      height: 32px;\n",
              "      padding: 0 0 0 0;\n",
              "      width: 32px;\n",
              "    }\n",
              "\n",
              "    .colab-df-convert:hover {\n",
              "      background-color: #E2EBFA;\n",
              "      box-shadow: 0px 1px 2px rgba(60, 64, 67, 0.3), 0px 1px 3px 1px rgba(60, 64, 67, 0.15);\n",
              "      fill: #174EA6;\n",
              "    }\n",
              "\n",
              "    .colab-df-buttons div {\n",
              "      margin-bottom: 4px;\n",
              "    }\n",
              "\n",
              "    [theme=dark] .colab-df-convert {\n",
              "      background-color: #3B4455;\n",
              "      fill: #D2E3FC;\n",
              "    }\n",
              "\n",
              "    [theme=dark] .colab-df-convert:hover {\n",
              "      background-color: #434B5C;\n",
              "      box-shadow: 0px 1px 3px 1px rgba(0, 0, 0, 0.15);\n",
              "      filter: drop-shadow(0px 1px 2px rgba(0, 0, 0, 0.3));\n",
              "      fill: #FFFFFF;\n",
              "    }\n",
              "  </style>\n",
              "\n",
              "    <script>\n",
              "      const buttonEl =\n",
              "        document.querySelector('#df-8af1ca1a-8fb1-470d-83e6-90f2710a33a3 button.colab-df-convert');\n",
              "      buttonEl.style.display =\n",
              "        google.colab.kernel.accessAllowed ? 'block' : 'none';\n",
              "\n",
              "      async function convertToInteractive(key) {\n",
              "        const element = document.querySelector('#df-8af1ca1a-8fb1-470d-83e6-90f2710a33a3');\n",
              "        const dataTable =\n",
              "          await google.colab.kernel.invokeFunction('convertToInteractive',\n",
              "                                                    [key], {});\n",
              "        if (!dataTable) return;\n",
              "\n",
              "        const docLinkHtml = 'Like what you see? Visit the ' +\n",
              "          '<a target=\"_blank\" href=https://colab.research.google.com/notebooks/data_table.ipynb>data table notebook</a>'\n",
              "          + ' to learn more about interactive tables.';\n",
              "        element.innerHTML = '';\n",
              "        dataTable['output_type'] = 'display_data';\n",
              "        await google.colab.output.renderOutput(dataTable, element);\n",
              "        const docLink = document.createElement('div');\n",
              "        docLink.innerHTML = docLinkHtml;\n",
              "        element.appendChild(docLink);\n",
              "      }\n",
              "    </script>\n",
              "  </div>\n",
              "\n",
              "\n",
              "    <div id=\"df-05f09ced-4a2d-4c11-9251-d8dfab90ef9c\">\n",
              "      <button class=\"colab-df-quickchart\" onclick=\"quickchart('df-05f09ced-4a2d-4c11-9251-d8dfab90ef9c')\"\n",
              "                title=\"Suggest charts\"\n",
              "                style=\"display:none;\">\n",
              "\n",
              "<svg xmlns=\"http://www.w3.org/2000/svg\" height=\"24px\"viewBox=\"0 0 24 24\"\n",
              "     width=\"24px\">\n",
              "    <g>\n",
              "        <path d=\"M19 3H5c-1.1 0-2 .9-2 2v14c0 1.1.9 2 2 2h14c1.1 0 2-.9 2-2V5c0-1.1-.9-2-2-2zM9 17H7v-7h2v7zm4 0h-2V7h2v10zm4 0h-2v-4h2v4z\"/>\n",
              "    </g>\n",
              "</svg>\n",
              "      </button>\n",
              "\n",
              "<style>\n",
              "  .colab-df-quickchart {\n",
              "      --bg-color: #E8F0FE;\n",
              "      --fill-color: #1967D2;\n",
              "      --hover-bg-color: #E2EBFA;\n",
              "      --hover-fill-color: #174EA6;\n",
              "      --disabled-fill-color: #AAA;\n",
              "      --disabled-bg-color: #DDD;\n",
              "  }\n",
              "\n",
              "  [theme=dark] .colab-df-quickchart {\n",
              "      --bg-color: #3B4455;\n",
              "      --fill-color: #D2E3FC;\n",
              "      --hover-bg-color: #434B5C;\n",
              "      --hover-fill-color: #FFFFFF;\n",
              "      --disabled-bg-color: #3B4455;\n",
              "      --disabled-fill-color: #666;\n",
              "  }\n",
              "\n",
              "  .colab-df-quickchart {\n",
              "    background-color: var(--bg-color);\n",
              "    border: none;\n",
              "    border-radius: 50%;\n",
              "    cursor: pointer;\n",
              "    display: none;\n",
              "    fill: var(--fill-color);\n",
              "    height: 32px;\n",
              "    padding: 0;\n",
              "    width: 32px;\n",
              "  }\n",
              "\n",
              "  .colab-df-quickchart:hover {\n",
              "    background-color: var(--hover-bg-color);\n",
              "    box-shadow: 0 1px 2px rgba(60, 64, 67, 0.3), 0 1px 3px 1px rgba(60, 64, 67, 0.15);\n",
              "    fill: var(--button-hover-fill-color);\n",
              "  }\n",
              "\n",
              "  .colab-df-quickchart-complete:disabled,\n",
              "  .colab-df-quickchart-complete:disabled:hover {\n",
              "    background-color: var(--disabled-bg-color);\n",
              "    fill: var(--disabled-fill-color);\n",
              "    box-shadow: none;\n",
              "  }\n",
              "\n",
              "  .colab-df-spinner {\n",
              "    border: 2px solid var(--fill-color);\n",
              "    border-color: transparent;\n",
              "    border-bottom-color: var(--fill-color);\n",
              "    animation:\n",
              "      spin 1s steps(1) infinite;\n",
              "  }\n",
              "\n",
              "  @keyframes spin {\n",
              "    0% {\n",
              "      border-color: transparent;\n",
              "      border-bottom-color: var(--fill-color);\n",
              "      border-left-color: var(--fill-color);\n",
              "    }\n",
              "    20% {\n",
              "      border-color: transparent;\n",
              "      border-left-color: var(--fill-color);\n",
              "      border-top-color: var(--fill-color);\n",
              "    }\n",
              "    30% {\n",
              "      border-color: transparent;\n",
              "      border-left-color: var(--fill-color);\n",
              "      border-top-color: var(--fill-color);\n",
              "      border-right-color: var(--fill-color);\n",
              "    }\n",
              "    40% {\n",
              "      border-color: transparent;\n",
              "      border-right-color: var(--fill-color);\n",
              "      border-top-color: var(--fill-color);\n",
              "    }\n",
              "    60% {\n",
              "      border-color: transparent;\n",
              "      border-right-color: var(--fill-color);\n",
              "    }\n",
              "    80% {\n",
              "      border-color: transparent;\n",
              "      border-right-color: var(--fill-color);\n",
              "      border-bottom-color: var(--fill-color);\n",
              "    }\n",
              "    90% {\n",
              "      border-color: transparent;\n",
              "      border-bottom-color: var(--fill-color);\n",
              "    }\n",
              "  }\n",
              "</style>\n",
              "\n",
              "      <script>\n",
              "        async function quickchart(key) {\n",
              "          const quickchartButtonEl =\n",
              "            document.querySelector('#' + key + ' button');\n",
              "          quickchartButtonEl.disabled = true;  // To prevent multiple clicks.\n",
              "          quickchartButtonEl.classList.add('colab-df-spinner');\n",
              "          try {\n",
              "            const charts = await google.colab.kernel.invokeFunction(\n",
              "                'suggestCharts', [key], {});\n",
              "          } catch (error) {\n",
              "            console.error('Error during call to suggestCharts:', error);\n",
              "          }\n",
              "          quickchartButtonEl.classList.remove('colab-df-spinner');\n",
              "          quickchartButtonEl.classList.add('colab-df-quickchart-complete');\n",
              "        }\n",
              "        (() => {\n",
              "          let quickchartButtonEl =\n",
              "            document.querySelector('#df-05f09ced-4a2d-4c11-9251-d8dfab90ef9c button');\n",
              "          quickchartButtonEl.style.display =\n",
              "            google.colab.kernel.accessAllowed ? 'block' : 'none';\n",
              "        })();\n",
              "      </script>\n",
              "    </div>\n",
              "\n",
              "    </div>\n",
              "  </div>\n"
            ],
            "application/vnd.google.colaboratory.intrinsic+json": {
              "type": "dataframe",
              "variable_name": "df"
            }
          },
          "metadata": {},
          "execution_count": 5
        }
      ]
    },
    {
      "cell_type": "markdown",
      "metadata": {
        "id": "a8aa0f83"
      },
      "source": [
        "## Dataset preparation\n"
      ]
    },
    {
      "cell_type": "code",
      "metadata": {
        "colab": {
          "base_uri": "https://localhost:8080/"
        },
        "id": "akZxBFLIS3zE",
        "outputId": "26711f8b-1c38-43fb-d264-e422a7ffb9a8"
      },
      "source": [
        "from sklearn.model_selection import train_test_split\n",
        "\n",
        "X = df[['Carpet_Area_sqft', 'No_of_Towers', 'distance_category', 'location_popularity', 'location_type']]\n",
        "y = df['price_per_sqft']\n",
        "X = pd.get_dummies(X, columns=['distance_category', 'location_type'], drop_first=True)\n",
        "\n",
        "#Split the data\n",
        "X_train, X_test, y_train, y_test = train_test_split(X, y, test_size=0.2, random_state=42)\n",
        "\n",
        "print(\"Shape of X_train:\", X_train.shape)\n",
        "print(\"Shape of X_test:\", X_test.shape)\n",
        "print(\"Shape of y_train:\", y_train.shape)\n",
        "print(\"Shape of y_test:\", y_test.shape)"
      ],
      "execution_count": null,
      "outputs": [
        {
          "output_type": "stream",
          "name": "stdout",
          "text": [
            "Shape of X_train: (800, 6)\n",
            "Shape of X_test: (201, 6)\n",
            "Shape of y_train: (800,)\n",
            "Shape of y_test: (201,)\n"
          ]
        }
      ]
    },
    {
      "cell_type": "code",
      "metadata": {
        "colab": {
          "base_uri": "https://localhost:8080/"
        },
        "id": "57bef7b4",
        "outputId": "ffc99993-100d-4d69-ef64-1445416518e0"
      },
      "source": [
        "from sklearn.linear_model import LinearRegression, Ridge, Lasso, ElasticNet\n",
        "from sklearn.metrics import mean_squared_error, r2_score\n",
        "from sklearn.preprocessing import PolynomialFeatures, StandardScaler\n",
        "from sklearn.pipeline import make_pipeline\n",
        "from xgboost import XGBRegressor\n",
        "from sklearn.ensemble import GradientBoostingRegressor\n",
        "from sklearn.svm import SVR\n",
        "from sklearn.decomposition import PCA\n",
        "\n",
        "# Instantiate models\n",
        "lr = LinearRegression()\n",
        "poly = make_pipeline(PolynomialFeatures(degree=2), LinearRegression())\n",
        "ridge = Ridge(random_state=42)\n",
        "lasso = Lasso(random_state=42)\n",
        "elastic_net = ElasticNet(random_state=42)\n",
        "xgb_model = XGBRegressor(objective='reg:squarederror', random_state=42, n_estimators=100, learning_rate=0.1, max_depth=3)\n",
        "gbr_model = GradientBoostingRegressor(random_state=42, n_estimators=100, learning_rate=0.1, max_depth=3)\n",
        "svr_model = SVR(kernel='rbf', C=100, gamma=0.1, epsilon=.1)\n",
        "pca = PCA(n_components=5)\n",
        "pcr_model = make_pipeline(StandardScaler(), pca, LinearRegression())\n",
        "\n",
        "\n",
        "# Train models\n",
        "lr.fit(X_train, y_train)\n",
        "poly.fit(X_train, y_train)\n",
        "ridge.fit(X_train, y_train)\n",
        "lasso.fit(X_train, y_train)\n",
        "elastic_net.fit(X_train, y_train)\n",
        "xgb_model.fit(X_train, y_train)\n",
        "gbr_model.fit(X_train, y_train)\n",
        "svr_model.fit(X_train, y_train)\n",
        "pcr_model.fit(X_train, y_train) # Train PCR\n",
        "\n",
        "\n",
        "# Predictions\n",
        "y_pred_lr = lr.predict(X_test)\n",
        "y_pred_poly = poly.predict(X_test)\n",
        "y_pred_ridge = ridge.predict(X_test)\n",
        "y_pred_lasso = lasso.predict(X_test)\n",
        "y_pred_elastic_net = elastic_net.predict(X_test)\n",
        "y_pred_xgb = xgb_model.predict(X_test)\n",
        "y_pred_gbr = gbr_model.predict(X_test)\n",
        "y_pred_svr = svr_model.predict(X_test)\n",
        "y_pred_pcr = pcr_model.predict(X_test)\n",
        "\n",
        "\n",
        "# Evaluation\n",
        "mse_lr = mean_squared_error(y_test, y_pred_lr)\n",
        "r2_lr = r2_score(y_test, y_pred_lr)\n",
        "\n",
        "mse_poly = mean_squared_error(y_test, y_pred_poly)\n",
        "r2_poly = r2_score(y_test, y_pred_poly)\n",
        "\n",
        "mse_ridge = mean_squared_error(y_test, y_pred_ridge)\n",
        "r2_ridge = r2_score(y_test, y_pred_ridge)\n",
        "\n",
        "mse_lasso = mean_squared_error(y_test, y_pred_lasso)\n",
        "r2_lasso = r2_score(y_test, y_pred_lasso)\n",
        "\n",
        "mse_elastic_net = mean_squared_error(y_test, y_pred_elastic_net)\n",
        "r2_elastic_net = r2_score(y_test, y_pred_elastic_net)\n",
        "\n",
        "mse_xgb = mean_squared_error(y_test, y_pred_xgb)\n",
        "r2_xgb = r2_score(y_test, y_pred_xgb)\n",
        "\n",
        "mse_gbr = mean_squared_error(y_test, y_pred_gbr)\n",
        "r2_gbr = r2_score(y_test, y_pred_gbr)\n",
        "\n",
        "mse_svr = mean_squared_error(y_test, y_pred_svr)\n",
        "r2_svr = r2_score(y_test, y_pred_svr)\n",
        "\n",
        "mse_pcr = mean_squared_error(y_test, y_pred_pcr) # Evaluate PCR\n",
        "r2_pcr = r2_score(y_test, y_pred_pcr)\n",
        "\n",
        "\n",
        "# Print results\n",
        "print(f\"Linear Regression - MSE: {mse_lr:.2f}, R²: {r2_lr:.2f}\")\n",
        "print(f\"Polynomial Regression (degree=2) - MSE: {mse_poly:.2f}, R²: {r2_poly:.2f}\")\n",
        "print(f\"Ridge Regression - MSE: {mse_ridge:.2f}, R²: {r2_ridge:.2f}\")\n",
        "print(f\"Lasso Regression - MSE: {mse_lasso:.2f}, R²: {r2_lasso:.2f}\")\n",
        "print(f\"Elastic Net Regression - MSE: {mse_elastic_net:.2f}, R²: {r2_elastic_net:.2f}\")\n",
        "print(f\"XGBoost Regressor - MSE: {mse_xgb:.2f}, R²: {r2_xgb:.2f}\")\n",
        "print(f\"Gradient Boosting Regressor - MSE: {mse_gbr:.2f}, R²: {r2_gbr:.2f}\")\n",
        "print(f\"SVR - MSE: {mse_svr:.2f}, R²: {r2_svr:.2f}\")\n",
        "print(f\"Principal Component Regression - MSE: {mse_pcr:.2f}, R²: {r2_pcr:.2f}\")"
      ],
      "execution_count": null,
      "outputs": [
        {
          "output_type": "stream",
          "name": "stdout",
          "text": [
            "Linear Regression - MSE: 8450487.22, R²: 0.42\n",
            "Polynomial Regression (degree=2) - MSE: 0.00, R²: 1.00\n",
            "Ridge Regression - MSE: 8459432.07, R²: 0.42\n",
            "Lasso Regression - MSE: 8451248.23, R²: 0.42\n",
            "Elastic Net Regression - MSE: 10253979.09, R²: 0.30\n",
            "XGBoost Regressor - MSE: 380.75, R²: 1.00\n",
            "Gradient Boosting Regressor - MSE: 466.49, R²: 1.00\n",
            "SVR - MSE: 3254124.73, R²: 0.78\n",
            "Principal Component Regression - MSE: 8800238.93, R²: 0.40\n"
          ]
        }
      ]
    },
    {
      "cell_type": "markdown",
      "metadata": {
        "id": "02b40c5e"
      },
      "source": [
        "## Hyperparameter tuning using GridSearchCV\n",
        "\n"
      ]
    },
    {
      "cell_type": "code",
      "metadata": {
        "colab": {
          "base_uri": "https://localhost:8080/"
        },
        "id": "7fc437ed",
        "outputId": "b2a2d37f-0331-4d3e-ba13-9946ca470185"
      },
      "source": [
        "from sklearn.linear_model import LinearRegression, Ridge, Lasso, ElasticNet\n",
        "from sklearn.model_selection import GridSearchCV\n",
        "from sklearn.metrics import mean_squared_error, r2_score\n",
        "from sklearn.preprocessing import PolynomialFeatures, StandardScaler\n",
        "from sklearn.pipeline import make_pipeline\n",
        "from xgboost import XGBRegressor\n",
        "from sklearn.ensemble import GradientBoostingRegressor\n",
        "from sklearn.svm import SVR\n",
        "from sklearn.decomposition import PCA\n",
        "\n",
        "\n",
        "#Define parameter grids\n",
        "param_grid_ridge = {'alpha': [0.1, 1.0, 10.0]}\n",
        "param_grid_lasso = {'alpha': [0.1, 1.0, 10.0]}\n",
        "param_grid_elastic_net = {'alpha': [0.1, 1.0, 10.0], 'l1_ratio': [0.2, 0.5, 0.8]}\n",
        "param_grid_poly = {'polynomialfeatures__degree': [1, 2, 3]} # Tuning the degree of polynomial features\n",
        "param_grid_xgb = {'n_estimators': [50, 100, 200], 'learning_rate': [0.01, 0.1, 0.2], 'max_depth': [3, 5, 7]}\n",
        "param_grid_gbr = {'n_estimators': [50, 100, 200], 'learning_rate': [0.01, 0.1, 0.2], 'max_depth': [3, 5, 7]}\n",
        "param_grid_svr = {'C': [0.1, 1, 10, 100], 'gamma': ['scale', 'auto', 0.1, 1], 'kernel': ['rbf']}\n",
        "param_grid_pcr = {'pca__n_components': [2, 3, 4, 5]}\n",
        "\n",
        "\n",
        "lr = LinearRegression()  #no tuning\n",
        "grid_ridge = GridSearchCV(Ridge(random_state=42), param_grid_ridge, cv=5, scoring='neg_mean_squared_error')\n",
        "grid_lasso = GridSearchCV(Lasso(random_state=42), param_grid_lasso, cv=5, scoring='neg_mean_squared_error')\n",
        "grid_elastic_net = GridSearchCV(ElasticNet(random_state=42), param_grid_elastic_net, cv=5, scoring='neg_mean_squared_error')\n",
        "grid_poly = GridSearchCV(make_pipeline(PolynomialFeatures(), LinearRegression()), param_grid_poly, cv=5, scoring='neg_mean_squared_error')\n",
        "grid_xgb = GridSearchCV(XGBRegressor(objective='reg:squarederror', random_state=42), param_grid_xgb, cv=5, scoring='neg_mean_squared_error')\n",
        "grid_gbr = GridSearchCV(GradientBoostingRegressor(random_state=42), param_grid_gbr, cv=5, scoring='neg_mean_squared_error')\n",
        "grid_svr = GridSearchCV(SVR(), param_grid_svr, cv=5, scoring='neg_mean_squared_error')\n",
        "grid_pcr = GridSearchCV(make_pipeline(StandardScaler(), PCA(), LinearRegression()), param_grid_pcr, cv=5, scoring='neg_mean_squared_error')\n",
        "\n",
        "\n",
        "#Train models after hyperparameter tuning\n",
        "lr.fit(X_train, y_train)\n",
        "\n",
        "grid_ridge.fit(X_train, y_train)\n",
        "\n",
        "grid_lasso.fit(X_train, y_train)\n",
        "\n",
        "grid_elastic_net.fit(X_train, y_train)\n",
        "\n",
        "grid_poly.fit(X_train, y_train)\n",
        "\n",
        "grid_xgb.fit(X_train, y_train)\n",
        "\n",
        "grid_gbr.fit(X_train, y_train)\n",
        "\n",
        "grid_svr.fit(X_train, y_train)\n",
        "\n",
        "grid_pcr.fit(X_train, y_train)\n",
        "\n",
        "\n",
        "y_pred_lr = lr.predict(X_test)\n",
        "y_pred_ridge = grid_ridge.best_estimator_.predict(X_test)\n",
        "y_pred_lasso = grid_lasso.best_estimator_.predict(X_test)\n",
        "y_pred_elastic_net = grid_elastic_net.best_estimator_.predict(X_test)\n",
        "y_pred_poly = grid_poly.best_estimator_.predict(X_test)\n",
        "y_pred_xgb = grid_xgb.best_estimator_.predict(X_test)\n",
        "y_pred_gbr = grid_gbr.best_estimator_.predict(X_test)\n",
        "y_pred_svr = grid_svr.best_estimator_.predict(X_test)\n",
        "y_pred_pcr = grid_pcr.best_estimator_.predict(X_test)\n",
        "\n",
        "\n",
        "mse_lr = mean_squared_error(y_test, y_pred_lr)\n",
        "r2_lr = r2_score(y_test, y_pred_lr)\n",
        "\n",
        "mse_ridge = mean_squared_error(y_test, y_pred_ridge)\n",
        "r2_ridge = r2_score(y_test, y_pred_ridge)\n",
        "\n",
        "mse_lasso = mean_squared_error(y_test, y_pred_lasso)\n",
        "r2_lasso = r2_score(y_test, y_pred_lasso)\n",
        "\n",
        "mse_elastic_net = mean_squared_error(y_test, y_pred_elastic_net)\n",
        "r2_elastic_net = r2_score(y_test, y_pred_elastic_net)\n",
        "\n",
        "mse_poly = mean_squared_error(y_test, y_pred_poly)\n",
        "r2_poly = r2_score(y_test, y_pred_poly)\n",
        "\n",
        "mse_xgb = mean_squared_error(y_test, y_pred_xgb)\n",
        "r2_xgb = r2_score(y_test, y_pred_xgb)\n",
        "\n",
        "mse_gbr = mean_squared_error(y_test, y_pred_gbr)\n",
        "r2_gbr = r2_score(y_test, y_pred_gbr)\n",
        "\n",
        "mse_svr = mean_squared_error(y_test, y_pred_svr)\n",
        "r2_svr = r2_score(y_test, y_pred_svr)\n",
        "\n",
        "mse_pcr = mean_squared_error(y_test, y_pred_pcr)\n",
        "r2_pcr = r2_score(y_test, y_pred_pcr)\n",
        "\n",
        "\n",
        "print(f\"Linear Regression - MSE: {mse_lr:.2f}, R-squared: {r2_lr:.2f}\")\n",
        "print(f\"Ridge Regressor (best params: {grid_ridge.best_params_}) - MSE: {mse_ridge:.2f}, R-squared: {r2_ridge:.2f}\")\n",
        "print(f\"Lasso Regressor (best params: {grid_lasso.best_params_}) - MSE: {mse_lasso:.2f}, R-squared: {r2_lasso:.2f}\")\n",
        "print(f\"Elastic Net Regressor (best params: {grid_elastic_net.best_params_}) - MSE: {mse_elastic_net:.2f}, R-squared: {r2_elastic_net:.2f}\")\n",
        "print(f\"Polynomial Regression (best params: {grid_poly.best_params_}) - MSE: {mse_poly:.2f}, R-squared: {r2_poly:.2f}\")\n",
        "print(f\"XGBoost Regressor (best params: {grid_xgb.best_params_}) - MSE: {mse_xgb:.2f}, R-squared: {r2_xgb:.2f}\")\n",
        "print(f\"Gradient Boosting Regressor (best params: {grid_gbr.best_params_}) - MSE: {mse_gbr:.2f}, R-squared: {r2_gbr:.2f}\")\n",
        "print(f\"SVR (best params: {grid_svr.best_params_}) - MSE: {mse_svr:.2f}, R-squared: {r2_svr:.2f}\")\n",
        "print(f\"Principal Component Regression (best params: {grid_pcr.best_params_}) - MSE: {mse_pcr:.2f}, R-squared: {r2_pcr:.2f}\")"
      ],
      "execution_count": null,
      "outputs": [
        {
          "output_type": "stream",
          "name": "stdout",
          "text": [
            "Linear Regression - MSE: 8450487.22, R-squared: 0.42\n",
            "Ridge Regressor (best params: {'alpha': 0.1}) - MSE: 8451249.36, R-squared: 0.42\n",
            "Lasso Regressor (best params: {'alpha': 1.0}) - MSE: 8451248.23, R-squared: 0.42\n",
            "Elastic Net Regressor (best params: {'alpha': 0.1, 'l1_ratio': 0.8}) - MSE: 8674252.63, R-squared: 0.41\n",
            "Polynomial Regression (best params: {'polynomialfeatures__degree': 3}) - MSE: 0.00, R-squared: 1.00\n",
            "XGBoost Regressor (best params: {'learning_rate': 0.2, 'max_depth': 5, 'n_estimators': 100}) - MSE: 0.00, R-squared: 1.00\n",
            "Gradient Boosting Regressor (best params: {'learning_rate': 0.2, 'max_depth': 5, 'n_estimators': 200}) - MSE: 0.00, R-squared: 1.00\n",
            "SVR (best params: {'C': 100, 'gamma': 1, 'kernel': 'rbf'}) - MSE: 2391436.51, R-squared: 0.84\n",
            "Principal Component Regression (best params: {'pca__n_components': 5}) - MSE: 8800238.93, R-squared: 0.40\n"
          ]
        }
      ]
    },
    {
      "cell_type": "markdown",
      "metadata": {
        "id": "2a52d4ac"
      },
      "source": [
        "## Experiment tracking with mlflow\n",
        "\n"
      ]
    },
    {
      "cell_type": "code",
      "source": [
        "!pip install mlflow --quiet"
      ],
      "metadata": {
        "id": "Ot0cx9S4VbC1",
        "colab": {
          "base_uri": "https://localhost:8080/"
        },
        "outputId": "ff807a61-bca7-4332-acec-674cc1f59d2e"
      },
      "execution_count": null,
      "outputs": [
        {
          "output_type": "stream",
          "name": "stdout",
          "text": [
            "\u001b[2K   \u001b[90m━━━━━━━━━━━━━━━━━━━━━━━━━━━━━━━━━━━━━━━━\u001b[0m \u001b[32m26.7/26.7 MB\u001b[0m \u001b[31m76.7 MB/s\u001b[0m eta \u001b[36m0:00:00\u001b[0m\n",
            "\u001b[2K   \u001b[90m━━━━━━━━━━━━━━━━━━━━━━━━━━━━━━━━━━━━━━━━\u001b[0m \u001b[32m2.2/2.2 MB\u001b[0m \u001b[31m90.5 MB/s\u001b[0m eta \u001b[36m0:00:00\u001b[0m\n",
            "\u001b[2K   \u001b[90m━━━━━━━━━━━━━━━━━━━━━━━━━━━━━━━━━━━━━━━━\u001b[0m \u001b[32m1.2/1.2 MB\u001b[0m \u001b[31m63.5 MB/s\u001b[0m eta \u001b[36m0:00:00\u001b[0m\n",
            "\u001b[2K   \u001b[90m━━━━━━━━━━━━━━━━━━━━━━━━━━━━━━━━━━━━━━━━\u001b[0m \u001b[32m147.8/147.8 kB\u001b[0m \u001b[31m15.0 MB/s\u001b[0m eta \u001b[36m0:00:00\u001b[0m\n",
            "\u001b[2K   \u001b[90m━━━━━━━━━━━━━━━━━━━━━━━━━━━━━━━━━━━━━━━━\u001b[0m \u001b[32m329.1/329.1 kB\u001b[0m \u001b[31m30.2 MB/s\u001b[0m eta \u001b[36m0:00:00\u001b[0m\n",
            "\u001b[2K   \u001b[90m━━━━━━━━━━━━━━━━━━━━━━━━━━━━━━━━━━━━━━━━\u001b[0m \u001b[32m114.9/114.9 kB\u001b[0m \u001b[31m10.6 MB/s\u001b[0m eta \u001b[36m0:00:00\u001b[0m\n",
            "\u001b[2K   \u001b[90m━━━━━━━━━━━━━━━━━━━━━━━━━━━━━━━━━━━━━━━━\u001b[0m \u001b[32m85.0/85.0 kB\u001b[0m \u001b[31m8.4 MB/s\u001b[0m eta \u001b[36m0:00:00\u001b[0m\n",
            "\u001b[2K   \u001b[90m━━━━━━━━━━━━━━━━━━━━━━━━━━━━━━━━━━━━━━━━\u001b[0m \u001b[32m86.2/86.2 kB\u001b[0m \u001b[31m8.9 MB/s\u001b[0m eta \u001b[36m0:00:00\u001b[0m\n",
            "\u001b[2K   \u001b[90m━━━━━━━━━━━━━━━━━━━━━━━━━━━━━━━━━━━━━━━━\u001b[0m \u001b[32m718.4/718.4 kB\u001b[0m \u001b[31m52.7 MB/s\u001b[0m eta \u001b[36m0:00:00\u001b[0m\n",
            "\u001b[2K   \u001b[90m━━━━━━━━━━━━━━━━━━━━━━━━━━━━━━━━━━━━━━━━\u001b[0m \u001b[32m203.4/203.4 kB\u001b[0m \u001b[31m16.6 MB/s\u001b[0m eta \u001b[36m0:00:00\u001b[0m\n",
            "\u001b[2K   \u001b[90m━━━━━━━━━━━━━━━━━━━━━━━━━━━━━━━━━━━━━━━━\u001b[0m \u001b[32m106.6/106.6 kB\u001b[0m \u001b[31m10.4 MB/s\u001b[0m eta \u001b[36m0:00:00\u001b[0m\n",
            "\u001b[2K   \u001b[90m━━━━━━━━━━━━━━━━━━━━━━━━━━━━━━━━━━━━━━━━\u001b[0m \u001b[32m96.4/96.4 kB\u001b[0m \u001b[31m9.7 MB/s\u001b[0m eta \u001b[36m0:00:00\u001b[0m\n",
            "\u001b[2K   \u001b[90m━━━━━━━━━━━━━━━━━━━━━━━━━━━━━━━━━━━━━━━━\u001b[0m \u001b[32m72.5/72.5 kB\u001b[0m \u001b[31m7.1 MB/s\u001b[0m eta \u001b[36m0:00:00\u001b[0m\n",
            "\u001b[2K   \u001b[90m━━━━━━━━━━━━━━━━━━━━━━━━━━━━━━━━━━━━━━━━\u001b[0m \u001b[32m224.4/224.4 kB\u001b[0m \u001b[31m20.9 MB/s\u001b[0m eta \u001b[36m0:00:00\u001b[0m\n",
            "\u001b[2K   \u001b[90m━━━━━━━━━━━━━━━━━━━━━━━━━━━━━━━━━━━━━━━━\u001b[0m \u001b[32m331.1/331.1 kB\u001b[0m \u001b[31m28.1 MB/s\u001b[0m eta \u001b[36m0:00:00\u001b[0m\n",
            "\u001b[2K   \u001b[90m━━━━━━━━━━━━━━━━━━━━━━━━━━━━━━━━━━━━━━━━\u001b[0m \u001b[32m71.5/71.5 kB\u001b[0m \u001b[31m7.2 MB/s\u001b[0m eta \u001b[36m0:00:00\u001b[0m\n",
            "\u001b[?25h"
          ]
        }
      ]
    },
    {
      "cell_type": "code",
      "source": [
        "import pandas as pd\n",
        "from sklearn.model_selection import train_test_split\n",
        "from sklearn.preprocessing import OneHotEncoder, StandardScaler\n",
        "from sklearn.compose import ColumnTransformer\n",
        "from sklearn.pipeline import Pipeline\n",
        "from sklearn.ensemble import GradientBoostingRegressor\n",
        "from sklearn.metrics import mean_squared_error, mean_absolute_error, r2_score\n",
        "import mlflow\n",
        "import mlflow.sklearn\n",
        "\n",
        "#Load your dataset ===\n",
        "df = pd.read_csv(\"/content/CIDCO FINAL DATASET.csv\")\n",
        "\n",
        "# Choose target column (replace 'target' with your actual target column name)\n",
        "target_col = \"price_per_sqft\"\n",
        "X = df[['Carpet_Area_sqft', 'No_of_Towers', 'distance_category', 'location_popularity', 'location_type']]\n",
        "y = df[target_col]\n",
        "\n",
        "# Identify categorical & numeric columns\n",
        "cat_cols = X.select_dtypes(include=[\"object\"]).columns\n",
        "num_cols = X.select_dtypes(include=[\"int64\",\"float64\"]).columns\n",
        "\n",
        "# Preprocessor\n",
        "preprocessor = ColumnTransformer([\n",
        "    (\"num\", StandardScaler(), num_cols),\n",
        "    (\"cat\", OneHotEncoder(handle_unknown=\"ignore\", drop='first'), cat_cols) # Added drop='first'\n",
        "])\n",
        "\n",
        "# Split\n",
        "X_train, X_test, y_train, y_test = train_test_split(X, y, test_size=0.2, random_state=42)\n",
        "\n",
        "# === Gradient Boosting Regressor Model Pipeline ===\n",
        "gbr_model_pipeline = Pipeline([\n",
        "    (\"preprocessor\", preprocessor),\n",
        "    (\"regressor\", GradientBoostingRegressor(random_state=42)) # Using the simple GBR model\n",
        "])\n",
        "\n",
        "with mlflow.start_run(run_name=\"Gradient Boosting Regressor\"):\n",
        "    gbr_model_pipeline.fit(X_train, y_train)\n",
        "    y_pred = gbr_model_pipeline.predict(X_test)\n",
        "\n",
        "    mse = mean_squared_error(y_test, y_pred)\n",
        "    mae = mean_absolute_error(y_test, y_pred)\n",
        "    r2  = r2_score(y_test, y_pred)\n",
        "\n",
        "    # Log params\n",
        "    gbr = gbr_model_pipeline.named_steps[\"regressor\"]\n",
        "    mlflow.log_param(\"n_estimators\", gbr.n_estimators)\n",
        "    mlflow.log_param(\"learning_rate\", gbr.learning_rate)\n",
        "    mlflow.log_param(\"max_depth\", gbr.max_depth)\n",
        "\n",
        "    # Log metrics\n",
        "    mlflow.log_metric(\"MSE\", mse)\n",
        "    mlflow.log_metric(\"MAE\", mae)\n",
        "    mlflow.log_metric(\"R2\", r2)\n",
        "\n",
        "    # Log pipeline model\n",
        "    mlflow.sklearn.log_model(gbr_model_pipeline, \"Gradient_Boosting_Regressor_Model\")\n",
        "\n",
        "print(\"Gradient Boosting Regressor model with preprocessing logged to MLflow.\")"
      ],
      "metadata": {
        "colab": {
          "base_uri": "https://localhost:8080/"
        },
        "id": "uO7DCZhrVfQz",
        "outputId": "b3da9014-acc8-4058-d97c-a7219b41b72e"
      },
      "execution_count": null,
      "outputs": [
        {
          "output_type": "stream",
          "name": "stderr",
          "text": [
            "2025/10/01 05:07:35 WARNING mlflow.models.model: `artifact_path` is deprecated. Please use `name` instead.\n",
            "\u001b[31m2025/10/01 05:07:50 WARNING mlflow.models.model: Model logged without a signature and input example. Please set `input_example` parameter when logging the model to auto infer the model signature.\u001b[0m\n"
          ]
        },
        {
          "output_type": "stream",
          "name": "stdout",
          "text": [
            "Gradient Boosting Regressor model with preprocessing logged to MLflow.\n"
          ]
        }
      ]
    },
    {
      "cell_type": "code",
      "source": [
        "#1. Linear Regression\n",
        "linear_model = Pipeline([\n",
        "    (\"preprocessor\", preprocessor),\n",
        "    (\"regressor\", LinearRegression())\n",
        "])\n",
        "\n",
        "with mlflow.start_run(run_name=\"Linear Regression\"):\n",
        "    linear_model.fit(X_train, y_train)\n",
        "    y_pred = linear_model.predict(X_test)\n",
        "\n",
        "    mse = mean_squared_error(y_test, y_pred)\n",
        "    mae = mean_absolute_error(y_test, y_pred)\n",
        "    r2  = r2_score(y_test, y_pred)\n",
        "\n",
        "    mlflow.log_metric(\"MSE\", mse)\n",
        "    mlflow.log_metric(\"MAE\", mae)\n",
        "    mlflow.log_metric(\"R2\", r2)\n",
        "\n",
        "    mlflow.sklearn.log_model(linear_model, \"Linear_Regression_Model\")\n",
        "\n",
        "print(\" Linear Regression model with preprocessing logged to MLflow.\")"
      ],
      "metadata": {
        "colab": {
          "base_uri": "https://localhost:8080/"
        },
        "id": "K-gZlYlqak7k",
        "outputId": "c6e6db37-6792-4323-984a-b71496670fb1"
      },
      "execution_count": null,
      "outputs": [
        {
          "output_type": "stream",
          "name": "stderr",
          "text": [
            "2025/10/01 05:07:51 WARNING mlflow.models.model: `artifact_path` is deprecated. Please use `name` instead.\n",
            "\u001b[31m2025/10/01 05:08:06 WARNING mlflow.models.model: Model logged without a signature and input example. Please set `input_example` parameter when logging the model to auto infer the model signature.\u001b[0m\n"
          ]
        },
        {
          "output_type": "stream",
          "name": "stdout",
          "text": [
            " Linear Regression model with preprocessing logged to MLflow.\n"
          ]
        }
      ]
    },
    {
      "cell_type": "code",
      "source": [
        "#2. Ridge Regression\n",
        "ridge_model = Pipeline([\n",
        "    (\"preprocessor\", preprocessor),\n",
        "    (\"regressor\", Ridge(random_state=42))\n",
        "])\n",
        "\n",
        "with mlflow.start_run(run_name=\"Ridge Regression\"):\n",
        "    ridge_model.fit(X_train, y_train)\n",
        "    y_pred = ridge_model.predict(X_test)\n",
        "\n",
        "    mse = mean_squared_error(y_test, y_pred)\n",
        "    mae = mean_absolute_error(y_test, y_pred)\n",
        "    r2  = r2_score(y_test, y_pred)\n",
        "\n",
        "    mlflow.log_param(\"alpha\", ridge_model.named_steps[\"regressor\"].alpha)\n",
        "\n",
        "    mlflow.log_metric(\"MSE\", mse)\n",
        "    mlflow.log_metric(\"MAE\", mae)\n",
        "    mlflow.log_metric(\"R2\", r2)\n",
        "\n",
        "    mlflow.sklearn.log_model(ridge_model, \"Ridge_Regression_Model\")\n",
        "\n",
        "print(\"✅ Ridge Regression model with preprocessing logged to MLflow.\")"
      ],
      "metadata": {
        "colab": {
          "base_uri": "https://localhost:8080/"
        },
        "id": "qWtCk2EGas3R",
        "outputId": "cff926cd-e711-4884-a51f-aa31be92a5dc"
      },
      "execution_count": null,
      "outputs": [
        {
          "output_type": "stream",
          "name": "stderr",
          "text": [
            "2025/10/01 05:08:06 WARNING mlflow.models.model: `artifact_path` is deprecated. Please use `name` instead.\n",
            "\u001b[31m2025/10/01 05:08:20 WARNING mlflow.models.model: Model logged without a signature and input example. Please set `input_example` parameter when logging the model to auto infer the model signature.\u001b[0m\n"
          ]
        },
        {
          "output_type": "stream",
          "name": "stdout",
          "text": [
            "✅ Ridge Regression model with preprocessing logged to MLflow.\n"
          ]
        }
      ]
    },
    {
      "cell_type": "code",
      "source": [
        "# 3. Lasso Regression\n",
        "lasso_model = Pipeline([\n",
        "    (\"preprocessor\", preprocessor),\n",
        "    (\"regressor\", Lasso(random_state=42))\n",
        "])\n",
        "\n",
        "with mlflow.start_run(run_name=\"Lasso Regression\"):\n",
        "    lasso_model.fit(X_train, y_train) # Train the lasso model\n",
        "    y_pred = lasso_model.predict(X_test) # Predict using the lasso model\n",
        "\n",
        "    mse = mean_squared_error(y_test, y_pred)\n",
        "    mae = mean_absolute_error(y_test, y_pred)\n",
        "    r2  = r2_score(y_test, y_pred)\n",
        "\n",
        "    # Log parameters for the lasso model\n",
        "    mlflow.log_param(\"alpha\", lasso_model.named_steps[\"regressor\"].alpha)\n",
        "\n",
        "    # Log metrics for the lasso model\n",
        "    mlflow.log_metric(\"MSE\", mse)\n",
        "    mlflow.log_metric(\"MAE\", mae)\n",
        "    mlflow.log_metric(\"R2\", r2)\n",
        "\n",
        "    # Log pipeline model\n",
        "    mlflow.sklearn.log_model(lasso_model, \"Lasso_Regression_Model\")\n",
        "\n",
        "print(\"✅ Lasso Regression model with preprocessing logged to MLflow.\")"
      ],
      "metadata": {
        "colab": {
          "base_uri": "https://localhost:8080/"
        },
        "id": "HBvuH6p8a6vZ",
        "outputId": "c1c54baf-edc4-4e29-dd36-8501257c9c1b"
      },
      "execution_count": null,
      "outputs": [
        {
          "output_type": "stream",
          "name": "stderr",
          "text": [
            "2025/10/01 05:08:20 WARNING mlflow.models.model: `artifact_path` is deprecated. Please use `name` instead.\n",
            "\u001b[31m2025/10/01 05:08:29 WARNING mlflow.models.model: Model logged without a signature and input example. Please set `input_example` parameter when logging the model to auto infer the model signature.\u001b[0m\n"
          ]
        },
        {
          "output_type": "stream",
          "name": "stdout",
          "text": [
            "✅ Lasso Regression model with preprocessing logged to MLflow.\n"
          ]
        }
      ]
    },
    {
      "cell_type": "code",
      "source": [
        "# 4. Elastic Net Regression\n",
        "elastic_net_model = Pipeline([\n",
        "    (\"preprocessor\", preprocessor),\n",
        "    (\"regressor\", ElasticNet(random_state=42))\n",
        "])\n",
        "\n",
        "with mlflow.start_run(run_name=\"Elastic Net Regression\"):\n",
        "    elastic_net_model.fit(X_train, y_train) # Train the elastic net model\n",
        "    y_pred = elastic_net_model.predict(X_test) # Predict using the elastic net model\n",
        "\n",
        "    mse = mean_squared_error(y_test, y_pred)\n",
        "    mae = mean_absolute_error(y_test, y_pred)\n",
        "    r2  = r2_score(y_test, y_pred)\n",
        "\n",
        "    # Log parameters for the elastic net model\n",
        "    mlflow.log_param(\"alpha\", elastic_net_model.named_steps[\"regressor\"].alpha)\n",
        "    mlflow.log_param(\"l1_ratio\", elastic_net_model.named_steps[\"regressor\"].l1_ratio)\n",
        "\n",
        "\n",
        "    # Log metrics for the elastic net model\n",
        "    mlflow.log_metric(\"MSE\", mse)\n",
        "    mlflow.log_metric(\"MAE\", mae)\n",
        "    mlflow.log_metric(\"R2\", r2)\n",
        "\n",
        "    # Log pipeline model\n",
        "    mlflow.sklearn.log_model(elastic_net_model, \"Elastic_Net_Regression_Model\")\n",
        "\n",
        "print(\"✅ Elastic Net Regression model with preprocessing logged to MLflow.\")"
      ],
      "metadata": {
        "colab": {
          "base_uri": "https://localhost:8080/"
        },
        "id": "HN9K9WK-bFMq",
        "outputId": "8b891eb8-8491-4c18-fe31-a8fc671fd93c"
      },
      "execution_count": null,
      "outputs": [
        {
          "output_type": "stream",
          "name": "stderr",
          "text": [
            "2025/10/01 05:08:29 WARNING mlflow.models.model: `artifact_path` is deprecated. Please use `name` instead.\n",
            "\u001b[31m2025/10/01 05:08:33 WARNING mlflow.models.model: Model logged without a signature and input example. Please set `input_example` parameter when logging the model to auto infer the model signature.\u001b[0m\n"
          ]
        },
        {
          "output_type": "stream",
          "name": "stdout",
          "text": [
            "✅ Elastic Net Regression model with preprocessing logged to MLflow.\n"
          ]
        }
      ]
    },
    {
      "cell_type": "code",
      "source": [
        "# 5. Polynomial Regression (degree=2)\n",
        "poly_model = Pipeline([\n",
        "    (\"preprocessor\", preprocessor),\n",
        "    (\"poly_features\", PolynomialFeatures(degree=2, include_bias=False)),\n",
        "    (\"regressor\", LinearRegression())\n",
        "])\n",
        "\n",
        "with mlflow.start_run(run_name=\"Polynomial Regression (Simple)\"):\n",
        "    poly_model.fit(X_train, y_train) # Train the polynomial model\n",
        "    y_pred = poly_model.predict(X_test) # Predict using the polynomial model\n",
        "\n",
        "    mse = mean_squared_error(y_test, y_pred)\n",
        "    mae = mean_absolute_error(y_test, y_pred)\n",
        "    r2  = r2_score(y_test, y_pred)\n",
        "\n",
        "    # Log parameters for the polynomial model (e.g., degree)\n",
        "    mlflow.log_param(\"degree\", poly_model.named_steps[\"poly_features\"].degree)\n",
        "\n",
        "    # Log metrics for the polynomial model\n",
        "    mlflow.log_metric(\"MSE\", mse)\n",
        "    mlflow.log_metric(\"MAE\", mae)\n",
        "    mlflow.log_metric(\"R2\", r2)\n",
        "\n",
        "    # Log pipeline model\n",
        "    mlflow.sklearn.log_model(poly_model, \"Polynomial_Regression_Simple_Model\")\n",
        "\n",
        "print(\"✅ Simple Polynomial Regression model with preprocessing logged to MLflow.\")"
      ],
      "metadata": {
        "colab": {
          "base_uri": "https://localhost:8080/"
        },
        "id": "ydPZTi6qbK4K",
        "outputId": "b0dc62bb-0c8c-464e-cbda-d79c80780a3d"
      },
      "execution_count": null,
      "outputs": [
        {
          "output_type": "stream",
          "name": "stderr",
          "text": [
            "2025/10/01 05:08:33 WARNING mlflow.models.model: `artifact_path` is deprecated. Please use `name` instead.\n",
            "\u001b[31m2025/10/01 05:08:36 WARNING mlflow.models.model: Model logged without a signature and input example. Please set `input_example` parameter when logging the model to auto infer the model signature.\u001b[0m\n"
          ]
        },
        {
          "output_type": "stream",
          "name": "stdout",
          "text": [
            "✅ Simple Polynomial Regression model with preprocessing logged to MLflow.\n"
          ]
        }
      ]
    },
    {
      "cell_type": "code",
      "source": [
        "# === 6. Support Vector Regressor (SVR) ===\n",
        "svr_model = Pipeline([\n",
        "    (\"preprocessor\", preprocessor),\n",
        "    (\"regressor\", SVR()) # Using default parameters for simple model\n",
        "])\n",
        "with mlflow.start_run(run_name=\"SVR\"):\n",
        "    svr_model.fit(X_train, y_train)\n",
        "    y_pred = svr_model.predict(X_test)\n",
        "\n",
        "    mse = mean_squared_error(y_test, y_pred)\n",
        "    mae = mean_absolute_error(y_test, y_pred)\n",
        "    r2  = r2_score(y_test, y_pred)\n",
        "\n",
        "    # Log parameters for the SVR model\n",
        "    svr = svr_model.named_steps[\"regressor\"]\n",
        "    mlflow.log_param(\"C\", svr.C)\n",
        "    mlflow.log_param(\"gamma\", svr.gamma)\n",
        "    mlflow.log_param(\"kernel\", svr.kernel)\n",
        "\n",
        "\n",
        "    # Log metrics\n",
        "    mlflow.log_metric(\"MSE\", mse)\n",
        "    mlflow.log_metric(\"MAE\", mae)\n",
        "    mlflow.log_metric(\"R2\", r2)\n",
        "\n",
        "    # Log pipeline model\n",
        "    mlflow.sklearn.log_model(svr_model, \"SVR_Model\")\n",
        "\n",
        "print(\"✅ SVR model with preprocessing logged to MLflow.\")"
      ],
      "metadata": {
        "colab": {
          "base_uri": "https://localhost:8080/"
        },
        "id": "r-CaNEURbSaU",
        "outputId": "09831ed0-71f7-4856-c430-f13e46292bd6"
      },
      "execution_count": null,
      "outputs": [
        {
          "output_type": "stream",
          "name": "stderr",
          "text": [
            "2025/10/01 05:08:36 WARNING mlflow.models.model: `artifact_path` is deprecated. Please use `name` instead.\n",
            "\u001b[31m2025/10/01 05:08:39 WARNING mlflow.models.model: Model logged without a signature and input example. Please set `input_example` parameter when logging the model to auto infer the model signature.\u001b[0m\n"
          ]
        },
        {
          "output_type": "stream",
          "name": "stdout",
          "text": [
            "✅ SVR model with preprocessing logged to MLflow.\n"
          ]
        }
      ]
    },
    {
      "cell_type": "code",
      "source": [
        "# === 7. XGBoost Regressor ===\n",
        "xgb_model = Pipeline([\n",
        "    (\"preprocessor\", preprocessor),\n",
        "    (\"regressor\", XGBRegressor(random_state=42, verbosity=0)) # Added verbosity=0 to reduce output\n",
        "])\n",
        "with mlflow.start_run(run_name=\"XGBoost Regressor\"):\n",
        "    xgb_model.fit(X_train, y_train)\n",
        "    y_pred = xgb_model.predict(X_test)\n",
        "\n",
        "    mse = mean_squared_error(y_test, y_pred)\n",
        "    mae = mean_absolute_error(y_test, y_pred)\n",
        "    r2  = r2_score(y_test, y_pred)\n",
        "\n",
        "    # Log params\n",
        "    xgb = xgb_model.named_steps[\"regressor\"]\n",
        "    mlflow.log_param(\"n_estimators\", xgb.n_estimators)\n",
        "    mlflow.log_param(\"learning_rate\", xgb.learning_rate)\n",
        "    mlflow.log_param(\"max_depth\", xgb.max_depth)\n",
        "\n",
        "    # Log metrics\n",
        "    mlflow.log_metric(\"MSE\", mse)\n",
        "    mlflow.log_metric(\"MAE\", mae)\n",
        "    mlflow.log_metric(\"R2\", r2)\n",
        "\n",
        "    # Log pipeline model\n",
        "    mlflow.sklearn.log_model(xgb_model, \"XGBoost_Regressor_Model\")\n",
        "\n",
        "print(\"✅ XGBoost Regressor model with preprocessing logged to MLflow.\")"
      ],
      "metadata": {
        "colab": {
          "base_uri": "https://localhost:8080/"
        },
        "id": "qbPK0ObFbfcJ",
        "outputId": "d28f15c6-b428-4e5d-b0ef-da91d4508d82"
      },
      "execution_count": null,
      "outputs": [
        {
          "output_type": "stream",
          "name": "stderr",
          "text": [
            "2025/10/01 05:08:39 WARNING mlflow.models.model: `artifact_path` is deprecated. Please use `name` instead.\n",
            "\u001b[31m2025/10/01 05:08:42 WARNING mlflow.models.model: Model logged without a signature and input example. Please set `input_example` parameter when logging the model to auto infer the model signature.\u001b[0m\n"
          ]
        },
        {
          "output_type": "stream",
          "name": "stdout",
          "text": [
            "✅ XGBoost Regressor model with preprocessing logged to MLflow.\n"
          ]
        }
      ]
    },
    {
      "cell_type": "code",
      "source": [
        "# === 8. Principal Component Regression (PCA + LinearRegression) ===\n",
        "pcr_model = Pipeline([\n",
        "    (\"preprocessor\", preprocessor),\n",
        "    (\"pca\", PCA(n_components=5)),   # adjust n_components as needed\n",
        "    (\"regressor\", LinearRegression())\n",
        "])\n",
        "\n",
        "with mlflow.start_run(run_name=\"Principal Component Regression\"):\n",
        "    pcr_model.fit(X_train, y_train)\n",
        "    y_pred = pcr_model.predict(X_test)\n",
        "\n",
        "    mse = mean_squared_error(y_test, y_pred)\n",
        "    mae = mean_absolute_error(y_test, y_pred)\n",
        "    r2  = r2_score(y_test, y_pred)\n",
        "\n",
        "    # Log params\n",
        "    mlflow.log_param(\"n_components\", pcr_model.named_steps['pca'].n_components)\n",
        "\n",
        "\n",
        "    # Log metrics\n",
        "    mlflow.log_metric(\"MSE\", mse)\n",
        "    mlflow.log_metric(\"MAE\", mae)\n",
        "    mlflow.log_metric(\"R2\", r2)\n",
        "\n",
        "    # Log pipeline model\n",
        "    mlflow.sklearn.log_model(pcr_model, \"Principal_Component_Regression_Model\")\n",
        "\n",
        "print(\"✅ Principal Component Regression model with preprocessing logged to MLflow.\")"
      ],
      "metadata": {
        "colab": {
          "base_uri": "https://localhost:8080/"
        },
        "id": "40-WkPcWYeAN",
        "outputId": "33a1ca76-bcf9-407d-f797-6a181bb6c204"
      },
      "execution_count": null,
      "outputs": [
        {
          "output_type": "stream",
          "name": "stderr",
          "text": [
            "2025/10/01 05:08:42 WARNING mlflow.models.model: `artifact_path` is deprecated. Please use `name` instead.\n",
            "\u001b[31m2025/10/01 05:08:45 WARNING mlflow.models.model: Model logged without a signature and input example. Please set `input_example` parameter when logging the model to auto infer the model signature.\u001b[0m\n"
          ]
        },
        {
          "output_type": "stream",
          "name": "stdout",
          "text": [
            "✅ Principal Component Regression model with preprocessing logged to MLflow.\n"
          ]
        }
      ]
    },
    {
      "cell_type": "code",
      "source": [
        "!pip install pyngrok --quiet"
      ],
      "metadata": {
        "id": "ZsgRVO7UcDfo"
      },
      "execution_count": null,
      "outputs": []
    },
    {
      "cell_type": "code",
      "source": [
        "from pyngrok import ngrok\n",
        "\n",
        "ngrok.set_auth_token(\"322hdtruWapvhML1KXOicKbthPz_3EFH1kCu7g3LwCUNDsN8w\")"
      ],
      "metadata": {
        "id": "vUOWYiJecFQ6",
        "colab": {
          "base_uri": "https://localhost:8080/"
        },
        "outputId": "465c834f-b9ff-44af-e815-9438b28b76a7"
      },
      "execution_count": null,
      "outputs": [
        {
          "output_type": "stream",
          "name": "stdout",
          "text": []
        }
      ]
    },
    {
      "cell_type": "code",
      "source": [
        "import mlflow\n",
        "import os\n",
        "from pyngrok import ngrok\n",
        "\n",
        "# Kill any existing process\n",
        "os.system(\"pkill -f mlflow\")\n",
        "\n",
        "# Start MLflow server\n",
        "get_ipython().system_raw(\"mlflow ui --host 0.0.0.0 --port 5000 &\")\n",
        "\n",
        "# Expose port 5000 via ngrok\n",
        "public_url = ngrok.connect(5000)\n",
        "print(\"MLflow Tracking UI:\", public_url)"
      ],
      "metadata": {
        "colab": {
          "base_uri": "https://localhost:8080/"
        },
        "id": "TjbOA9S5cH1N",
        "outputId": "a0877ed6-67b3-4017-bfd3-ec147de617af"
      },
      "execution_count": null,
      "outputs": [
        {
          "output_type": "stream",
          "name": "stdout",
          "text": [
            "MLflow Tracking UI: NgrokTunnel: \"https://929a3bff04a6.ngrok-free.app\" -> \"http://localhost:5000\"\n"
          ]
        }
      ]
    },
    {
      "cell_type": "code",
      "source": [
        "import joblib\n",
        "\n",
        "joblib.dump(xgb_model, \"xgb_model.pkl\")\n",
        "print(\"Simple XGBoost Regressor model saved as xgb_model.pkl\")"
      ],
      "metadata": {
        "id": "0ujC_1gAcS_q",
        "colab": {
          "base_uri": "https://localhost:8080/"
        },
        "outputId": "b24d9eb0-e318-4464-dfbe-f6f1456026c4"
      },
      "execution_count": null,
      "outputs": [
        {
          "output_type": "stream",
          "name": "stdout",
          "text": [
            "Simple XGBoost Regressor model saved as xgb_model.pkl\n"
          ]
        }
      ]
    }
  ]
}